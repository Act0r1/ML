{
 "cells": [
  {
   "cell_type": "code",
   "execution_count": 1,
   "id": "ebc50960-98e8-4b46-ac22-54f008029d9b",
   "metadata": {},
   "outputs": [],
   "source": [
    "import pandas as pd\n",
    "import time\n",
    "import numpy as np\n",
    "from yahoofinancials import YahooFinancials"
   ]
  },
  {
   "cell_type": "code",
   "execution_count": 2,
   "id": "3aca8cd6",
   "metadata": {},
   "outputs": [],
   "source": [
    "start = '2003-12-1'\n",
    "end = '2020-1-1'\n",
    "tikcet = 'USDRUB=X'"
   ]
  },
  {
   "cell_type": "code",
   "execution_count": 3,
   "id": "bf25739a",
   "metadata": {},
   "outputs": [],
   "source": [
    "def get_price_data(start, end, ticker='USDRUB=X'):\n",
    "    \"\"\"\n",
    "    Gets USDRUB price data\n",
    "    :param start: starting date for USDRUB price\n",
    "    :type start : string of date \"Y-M-D\"\n",
    "    :param end: end date for USDRUB price\n",
    "    :type end: string of date \"Y-M-D\"\n",
    "    :ticker: ticker for price, default=\"USDRUB=X\"\n",
    "    :type ticker: string 'USDRUB=X', 'tsla', etc\n",
    "    :return: Pandas DataFrame\n",
    "    \"\"\"\n",
    "    \n",
    "    i = 1\n",
    "    \n",
    "    try:\n",
    "        ticker = YahooFinancials(ticker)\n",
    "        data = ticker.get_historical_price_data(start_date=start, end_date=end, time_interval='daily')\n",
    "        \n",
    "        \n",
    "    except ValueError:\n",
    "        print('Value error, trying again')\n",
    "        i += 1\n",
    "        if i < 5:\n",
    "            time.sleep(10)\n",
    "            get_price_data(start, end, ticker)\n",
    "        else:\n",
    "            print(\"Tried 5 times, Yahoo error. Trying after 2 minutes\")\n",
    "            time.sleep(120)\n",
    "            get_price_data(start, end, ticker)\n",
    "            \n",
    "            \n",
    "    data = pd.DataFrame(data['USDRUB=X']['prices']) # extract price which we need\n",
    "    data = data.set_index('formatted_date',drop=True)\n",
    "    return data"
   ]
  },
  {
   "cell_type": "code",
   "execution_count": 4,
   "id": "79d536da",
   "metadata": {},
   "outputs": [],
   "source": [
    "df = get_price_data(start=start, end=end)"
   ]
  },
  {
   "cell_type": "code",
   "execution_count": 5,
   "id": "70975158",
   "metadata": {},
   "outputs": [],
   "source": [
    "df = df.drop('date', axis=1)"
   ]
  },
  {
   "cell_type": "code",
   "execution_count": 6,
   "id": "9530d7c6",
   "metadata": {},
   "outputs": [
    {
     "data": {
      "text/html": [
       "<div>\n",
       "<style scoped>\n",
       "    .dataframe tbody tr th:only-of-type {\n",
       "        vertical-align: middle;\n",
       "    }\n",
       "\n",
       "    .dataframe tbody tr th {\n",
       "        vertical-align: top;\n",
       "    }\n",
       "\n",
       "    .dataframe thead th {\n",
       "        text-align: right;\n",
       "    }\n",
       "</style>\n",
       "<table border=\"1\" class=\"dataframe\">\n",
       "  <thead>\n",
       "    <tr style=\"text-align: right;\">\n",
       "      <th></th>\n",
       "      <th>high</th>\n",
       "      <th>low</th>\n",
       "      <th>open</th>\n",
       "      <th>close</th>\n",
       "      <th>volume</th>\n",
       "      <th>adjclose</th>\n",
       "    </tr>\n",
       "    <tr>\n",
       "      <th>formatted_date</th>\n",
       "      <th></th>\n",
       "      <th></th>\n",
       "      <th></th>\n",
       "      <th></th>\n",
       "      <th></th>\n",
       "      <th></th>\n",
       "    </tr>\n",
       "  </thead>\n",
       "  <tbody>\n",
       "    <tr>\n",
       "      <th>2003-12-01</th>\n",
       "      <td>29.730000</td>\n",
       "      <td>29.690001</td>\n",
       "      <td>29.730000</td>\n",
       "      <td>29.700001</td>\n",
       "      <td>0.0</td>\n",
       "      <td>29.700001</td>\n",
       "    </tr>\n",
       "    <tr>\n",
       "      <th>2003-12-02</th>\n",
       "      <td>29.700001</td>\n",
       "      <td>29.690001</td>\n",
       "      <td>29.690001</td>\n",
       "      <td>29.690001</td>\n",
       "      <td>0.0</td>\n",
       "      <td>29.690001</td>\n",
       "    </tr>\n",
       "    <tr>\n",
       "      <th>2003-12-03</th>\n",
       "      <td>29.690001</td>\n",
       "      <td>29.690001</td>\n",
       "      <td>29.690001</td>\n",
       "      <td>29.690001</td>\n",
       "      <td>0.0</td>\n",
       "      <td>29.690001</td>\n",
       "    </tr>\n",
       "    <tr>\n",
       "      <th>2003-12-04</th>\n",
       "      <td>29.680000</td>\n",
       "      <td>29.680000</td>\n",
       "      <td>29.680000</td>\n",
       "      <td>29.680000</td>\n",
       "      <td>0.0</td>\n",
       "      <td>29.680000</td>\n",
       "    </tr>\n",
       "    <tr>\n",
       "      <th>2003-12-05</th>\n",
       "      <td>29.629999</td>\n",
       "      <td>29.629999</td>\n",
       "      <td>29.629999</td>\n",
       "      <td>29.620001</td>\n",
       "      <td>0.0</td>\n",
       "      <td>29.620001</td>\n",
       "    </tr>\n",
       "  </tbody>\n",
       "</table>\n",
       "</div>"
      ],
      "text/plain": [
       "                     high        low       open      close  volume   adjclose\n",
       "formatted_date                                                               \n",
       "2003-12-01      29.730000  29.690001  29.730000  29.700001     0.0  29.700001\n",
       "2003-12-02      29.700001  29.690001  29.690001  29.690001     0.0  29.690001\n",
       "2003-12-03      29.690001  29.690001  29.690001  29.690001     0.0  29.690001\n",
       "2003-12-04      29.680000  29.680000  29.680000  29.680000     0.0  29.680000\n",
       "2003-12-05      29.629999  29.629999  29.629999  29.620001     0.0  29.620001"
      ]
     },
     "execution_count": 6,
     "metadata": {},
     "output_type": "execute_result"
    }
   ],
   "source": [
    "df.head()"
   ]
  },
  {
   "cell_type": "code",
   "execution_count": 7,
   "id": "75cfc73c",
   "metadata": {},
   "outputs": [],
   "source": [
    "df['high'] = df['high'].astype('float64')"
   ]
  },
  {
   "cell_type": "code",
   "execution_count": 8,
   "id": "aa6ef666",
   "metadata": {},
   "outputs": [
    {
     "data": {
      "text/plain": [
       "array([30., 30., 30., ..., 62., 62., 62.])"
      ]
     },
     "execution_count": 8,
     "metadata": {},
     "output_type": "execute_result"
    }
   ],
   "source": [
    "np.around(df.close.values)"
   ]
  },
  {
   "cell_type": "code",
   "execution_count": 9,
   "id": "48cd0157",
   "metadata": {},
   "outputs": [
    {
     "data": {
      "text/plain": [
       "Index(['high', 'low', 'open', 'close', 'volume', 'adjclose'], dtype='object')"
      ]
     },
     "execution_count": 9,
     "metadata": {},
     "output_type": "execute_result"
    }
   ],
   "source": [
    "df.columns"
   ]
  },
  {
   "cell_type": "code",
   "execution_count": 10,
   "id": "7f98fab8",
   "metadata": {},
   "outputs": [
    {
     "data": {
      "text/plain": [
       "4198"
      ]
     },
     "execution_count": 10,
     "metadata": {},
     "output_type": "execute_result"
    }
   ],
   "source": [
    "len(df.close)"
   ]
  },
  {
   "cell_type": "code",
   "execution_count": 11,
   "id": "71bc473d",
   "metadata": {},
   "outputs": [
    {
     "data": {
      "text/plain": [
       "162800.86951458454"
      ]
     },
     "execution_count": 11,
     "metadata": {},
     "output_type": "execute_result"
    }
   ],
   "source": [
    "df.close.sum()"
   ]
  },
  {
   "cell_type": "markdown",
   "id": "e707ae97",
   "metadata": {},
   "source": [
    "--------------------\n",
    "## FEATURE"
   ]
  },
  {
   "cell_type": "code",
   "execution_count": 12,
   "id": "1742ee5b",
   "metadata": {},
   "outputs": [
    {
     "data": {
      "text/html": [
       "<div>\n",
       "<style scoped>\n",
       "    .dataframe tbody tr th:only-of-type {\n",
       "        vertical-align: middle;\n",
       "    }\n",
       "\n",
       "    .dataframe tbody tr th {\n",
       "        vertical-align: top;\n",
       "    }\n",
       "\n",
       "    .dataframe thead th {\n",
       "        text-align: right;\n",
       "    }\n",
       "</style>\n",
       "<table border=\"1\" class=\"dataframe\">\n",
       "  <thead>\n",
       "    <tr style=\"text-align: right;\">\n",
       "      <th></th>\n",
       "      <th>high</th>\n",
       "      <th>low</th>\n",
       "      <th>open</th>\n",
       "      <th>close</th>\n",
       "      <th>adjclose</th>\n",
       "      <th>SMA50</th>\n",
       "      <th>SMA250</th>\n",
       "    </tr>\n",
       "    <tr>\n",
       "      <th>formatted_date</th>\n",
       "      <th></th>\n",
       "      <th></th>\n",
       "      <th></th>\n",
       "      <th></th>\n",
       "      <th></th>\n",
       "      <th></th>\n",
       "      <th></th>\n",
       "    </tr>\n",
       "  </thead>\n",
       "  <tbody>\n",
       "    <tr>\n",
       "      <th>2003-12-01</th>\n",
       "      <td>29.730000</td>\n",
       "      <td>29.690001</td>\n",
       "      <td>29.730000</td>\n",
       "      <td>29.700001</td>\n",
       "      <td>29.700001</td>\n",
       "      <td>29.700001</td>\n",
       "      <td>29.700001</td>\n",
       "    </tr>\n",
       "    <tr>\n",
       "      <th>2003-12-02</th>\n",
       "      <td>29.700001</td>\n",
       "      <td>29.690001</td>\n",
       "      <td>29.690001</td>\n",
       "      <td>29.690001</td>\n",
       "      <td>29.690001</td>\n",
       "      <td>29.695001</td>\n",
       "      <td>29.695001</td>\n",
       "    </tr>\n",
       "    <tr>\n",
       "      <th>2003-12-03</th>\n",
       "      <td>29.690001</td>\n",
       "      <td>29.690001</td>\n",
       "      <td>29.690001</td>\n",
       "      <td>29.690001</td>\n",
       "      <td>29.690001</td>\n",
       "      <td>29.693334</td>\n",
       "      <td>29.693334</td>\n",
       "    </tr>\n",
       "    <tr>\n",
       "      <th>2003-12-04</th>\n",
       "      <td>29.680000</td>\n",
       "      <td>29.680000</td>\n",
       "      <td>29.680000</td>\n",
       "      <td>29.680000</td>\n",
       "      <td>29.680000</td>\n",
       "      <td>29.690001</td>\n",
       "      <td>29.690001</td>\n",
       "    </tr>\n",
       "    <tr>\n",
       "      <th>2003-12-05</th>\n",
       "      <td>29.629999</td>\n",
       "      <td>29.629999</td>\n",
       "      <td>29.629999</td>\n",
       "      <td>29.620001</td>\n",
       "      <td>29.620001</td>\n",
       "      <td>29.676001</td>\n",
       "      <td>29.676001</td>\n",
       "    </tr>\n",
       "  </tbody>\n",
       "</table>\n",
       "</div>"
      ],
      "text/plain": [
       "                     high        low       open      close   adjclose  \\\n",
       "formatted_date                                                          \n",
       "2003-12-01      29.730000  29.690001  29.730000  29.700001  29.700001   \n",
       "2003-12-02      29.700001  29.690001  29.690001  29.690001  29.690001   \n",
       "2003-12-03      29.690001  29.690001  29.690001  29.690001  29.690001   \n",
       "2003-12-04      29.680000  29.680000  29.680000  29.680000  29.680000   \n",
       "2003-12-05      29.629999  29.629999  29.629999  29.620001  29.620001   \n",
       "\n",
       "                    SMA50     SMA250  \n",
       "formatted_date                        \n",
       "2003-12-01      29.700001  29.700001  \n",
       "2003-12-02      29.695001  29.695001  \n",
       "2003-12-03      29.693334  29.693334  \n",
       "2003-12-04      29.690001  29.690001  \n",
       "2003-12-05      29.676001  29.676001  "
      ]
     },
     "execution_count": 12,
     "metadata": {},
     "output_type": "execute_result"
    }
   ],
   "source": [
    "import pandas as pd\n",
    "import matplotlib.pyplot as plt\n",
    "# and import make dataset\n",
    "\n",
    "\n",
    "#-----------------------\n",
    "# create SMA - simple moving average, for the prediction\n",
    "df['SMA50'] = df.close.rolling(window=50, min_periods=1).mean()\n",
    "df['SMA250'] = df.close.rolling(window=250, min_periods=1).mean()\n",
    "\n",
    "df = df.drop('volume', axis=1)\n",
    "df.head()"
   ]
  },
  {
   "cell_type": "code",
   "execution_count": 13,
   "id": "d9be46d1",
   "metadata": {},
   "outputs": [
    {
     "data": {
      "text/html": [
       "<div>\n",
       "<style scoped>\n",
       "    .dataframe tbody tr th:only-of-type {\n",
       "        vertical-align: middle;\n",
       "    }\n",
       "\n",
       "    .dataframe tbody tr th {\n",
       "        vertical-align: top;\n",
       "    }\n",
       "\n",
       "    .dataframe thead th {\n",
       "        text-align: right;\n",
       "    }\n",
       "</style>\n",
       "<table border=\"1\" class=\"dataframe\">\n",
       "  <thead>\n",
       "    <tr style=\"text-align: right;\">\n",
       "      <th></th>\n",
       "      <th>high</th>\n",
       "      <th>low</th>\n",
       "      <th>open</th>\n",
       "      <th>close</th>\n",
       "      <th>adjclose</th>\n",
       "      <th>SMA50</th>\n",
       "      <th>SMA250</th>\n",
       "    </tr>\n",
       "    <tr>\n",
       "      <th>formatted_date</th>\n",
       "      <th></th>\n",
       "      <th></th>\n",
       "      <th></th>\n",
       "      <th></th>\n",
       "      <th></th>\n",
       "      <th></th>\n",
       "      <th></th>\n",
       "    </tr>\n",
       "  </thead>\n",
       "  <tbody>\n",
       "    <tr>\n",
       "      <th>2003-12-01</th>\n",
       "      <td>29.730000</td>\n",
       "      <td>29.690001</td>\n",
       "      <td>29.730000</td>\n",
       "      <td>29.700001</td>\n",
       "      <td>29.700001</td>\n",
       "      <td>29.700001</td>\n",
       "      <td>29.700001</td>\n",
       "    </tr>\n",
       "    <tr>\n",
       "      <th>2003-12-02</th>\n",
       "      <td>29.700001</td>\n",
       "      <td>29.690001</td>\n",
       "      <td>29.690001</td>\n",
       "      <td>29.690001</td>\n",
       "      <td>29.690001</td>\n",
       "      <td>29.695001</td>\n",
       "      <td>29.695001</td>\n",
       "    </tr>\n",
       "    <tr>\n",
       "      <th>2003-12-03</th>\n",
       "      <td>29.690001</td>\n",
       "      <td>29.690001</td>\n",
       "      <td>29.690001</td>\n",
       "      <td>29.690001</td>\n",
       "      <td>29.690001</td>\n",
       "      <td>29.693334</td>\n",
       "      <td>29.693334</td>\n",
       "    </tr>\n",
       "    <tr>\n",
       "      <th>2003-12-04</th>\n",
       "      <td>29.680000</td>\n",
       "      <td>29.680000</td>\n",
       "      <td>29.680000</td>\n",
       "      <td>29.680000</td>\n",
       "      <td>29.680000</td>\n",
       "      <td>29.690001</td>\n",
       "      <td>29.690001</td>\n",
       "    </tr>\n",
       "    <tr>\n",
       "      <th>2003-12-05</th>\n",
       "      <td>29.629999</td>\n",
       "      <td>29.629999</td>\n",
       "      <td>29.629999</td>\n",
       "      <td>29.620001</td>\n",
       "      <td>29.620001</td>\n",
       "      <td>29.676001</td>\n",
       "      <td>29.676001</td>\n",
       "    </tr>\n",
       "  </tbody>\n",
       "</table>\n",
       "</div>"
      ],
      "text/plain": [
       "                     high        low       open      close   adjclose  \\\n",
       "formatted_date                                                          \n",
       "2003-12-01      29.730000  29.690001  29.730000  29.700001  29.700001   \n",
       "2003-12-02      29.700001  29.690001  29.690001  29.690001  29.690001   \n",
       "2003-12-03      29.690001  29.690001  29.690001  29.690001  29.690001   \n",
       "2003-12-04      29.680000  29.680000  29.680000  29.680000  29.680000   \n",
       "2003-12-05      29.629999  29.629999  29.629999  29.620001  29.620001   \n",
       "\n",
       "                    SMA50     SMA250  \n",
       "formatted_date                        \n",
       "2003-12-01      29.700001  29.700001  \n",
       "2003-12-02      29.695001  29.695001  \n",
       "2003-12-03      29.693334  29.693334  \n",
       "2003-12-04      29.690001  29.690001  \n",
       "2003-12-05      29.676001  29.676001  "
      ]
     },
     "execution_count": 13,
     "metadata": {},
     "output_type": "execute_result"
    }
   ],
   "source": [
    "df.head()"
   ]
  },
  {
   "cell_type": "code",
   "execution_count": 14,
   "id": "362fb6c5",
   "metadata": {},
   "outputs": [
    {
     "data": {
      "text/plain": [
       "<AxesSubplot:xlabel='formatted_date'>"
      ]
     },
     "execution_count": 14,
     "metadata": {},
     "output_type": "execute_result"
    },
    {
     "data": {
      "image/png": "[encoded data removed]",
      "text/plain": [
       "<Figure size 432x288 with 1 Axes>"
      ]
     },
     "metadata": {
      "needs_background": "light"
     },
     "output_type": "display_data"
    }
   ],
   "source": [
    "df['close'].plot()\n",
    "df['SMA50'].plot()"
   ]
  },
  {
   "cell_type": "code",
   "execution_count": 15,
   "id": "e914514b",
   "metadata": {},
   "outputs": [
    {
     "data": {
      "image/png": "[encoded data removed]",
      "text/plain": [
       "<Figure size 1080x720 with 1 Axes>"
      ]
     },
     "metadata": {
      "needs_background": "light"
     },
     "output_type": "display_data"
    }
   ],
   "source": [
    "# lets plotting out MA and close price\n",
    "plt.figure(figsize=(15,10))\n",
    "df['close'].plot(color='k', label='Close Price')\n",
    "df['SMA50'].plot(color='b', label='SMA50')\n",
    "df['SMA250'].plot(color='g', label='SMA250')\n",
    "plt.xlabel('Date', fontsize=20)\n",
    "plt.ylabel('USDRUB price', fontsize=18)\n",
    "plt.legend()\n",
    "plt.grid()\n",
    "plt.show();"
   ]
  },
  {
   "cell_type": "code",
   "execution_count": 16,
   "id": "7a1d0159",
   "metadata": {},
   "outputs": [],
   "source": [
    "# we create Exponential Moving Average or EMA, SMA doesn't enough good for prediction, \n",
    "#because it's lag windows/2 days, so for our SMA50 price delay ~25 days"
   ]
  },
  {
   "cell_type": "code",
   "execution_count": 17,
   "id": "d350fc78",
   "metadata": {},
   "outputs": [],
   "source": [
    "def calculate_ema(prices, days, smoothing=2):\n",
    "    \"\"\"\n",
    "    Calculate EMA for the given prices and days\n",
    "    :param prices: Price which we want to apple EMA\n",
    "    :type param: Pandas series\n",
    "    :param days: days which we use for EMA\n",
    "    :type days: int\n",
    "    :param smoothing: Smoothing params, which can be change, by default=2, like it use many 'traders'\n",
    "    :type smoothing: int\n",
    "    Return EMA\n",
    "    \"\"\"\n",
    "    ema = [sum(prices[:days]) / days]\n",
    "    for price in prices[days-(days-1):]:\n",
    "        ema.append((price * (smoothing / (1 + days))) + ema[-1] * (1 - (smoothing / (1 + days))))\n",
    "    return ema\n"
   ]
  },
  {
   "cell_type": "code",
   "execution_count": 18,
   "id": "1ca4b4f6",
   "metadata": {},
   "outputs": [],
   "source": [
    "df['EMA10'] = calculate_ema(df['close'], days=10)"
   ]
  },
  {
   "cell_type": "code",
   "execution_count": 19,
   "id": "00b45d51",
   "metadata": {},
   "outputs": [
    {
     "data": {
      "text/plain": [
       "4198"
      ]
     },
     "execution_count": 19,
     "metadata": {},
     "output_type": "execute_result"
    }
   ],
   "source": [
    "len(df.close.values)"
   ]
  },
  {
   "cell_type": "code",
   "execution_count": 20,
   "id": "3cc7bc74",
   "metadata": {},
   "outputs": [
    {
     "data": {
      "text/plain": [
       "4198"
      ]
     },
     "execution_count": 20,
     "metadata": {},
     "output_type": "execute_result"
    }
   ],
   "source": [
    "len(df.index)"
   ]
  },
  {
   "cell_type": "code",
   "execution_count": 21,
   "id": "5c7abf97",
   "metadata": {},
   "outputs": [
    {
     "data": {
      "text/html": [
       "<div>\n",
       "<style scoped>\n",
       "    .dataframe tbody tr th:only-of-type {\n",
       "        vertical-align: middle;\n",
       "    }\n",
       "\n",
       "    .dataframe tbody tr th {\n",
       "        vertical-align: top;\n",
       "    }\n",
       "\n",
       "    .dataframe thead th {\n",
       "        text-align: right;\n",
       "    }\n",
       "</style>\n",
       "<table border=\"1\" class=\"dataframe\">\n",
       "  <thead>\n",
       "    <tr style=\"text-align: right;\">\n",
       "      <th></th>\n",
       "      <th>high</th>\n",
       "      <th>low</th>\n",
       "      <th>open</th>\n",
       "      <th>close</th>\n",
       "      <th>adjclose</th>\n",
       "      <th>SMA50</th>\n",
       "      <th>SMA250</th>\n",
       "      <th>EMA10</th>\n",
       "    </tr>\n",
       "    <tr>\n",
       "      <th>formatted_date</th>\n",
       "      <th></th>\n",
       "      <th></th>\n",
       "      <th></th>\n",
       "      <th></th>\n",
       "      <th></th>\n",
       "      <th></th>\n",
       "      <th></th>\n",
       "      <th></th>\n",
       "    </tr>\n",
       "  </thead>\n",
       "  <tbody>\n",
       "    <tr>\n",
       "      <th>2003-12-01</th>\n",
       "      <td>29.730000</td>\n",
       "      <td>29.690001</td>\n",
       "      <td>29.730000</td>\n",
       "      <td>29.700001</td>\n",
       "      <td>29.700001</td>\n",
       "      <td>29.700001</td>\n",
       "      <td>29.700001</td>\n",
       "      <td>29.572001</td>\n",
       "    </tr>\n",
       "    <tr>\n",
       "      <th>2003-12-02</th>\n",
       "      <td>29.700001</td>\n",
       "      <td>29.690001</td>\n",
       "      <td>29.690001</td>\n",
       "      <td>29.690001</td>\n",
       "      <td>29.690001</td>\n",
       "      <td>29.695001</td>\n",
       "      <td>29.695001</td>\n",
       "      <td>29.593455</td>\n",
       "    </tr>\n",
       "    <tr>\n",
       "      <th>2003-12-03</th>\n",
       "      <td>29.690001</td>\n",
       "      <td>29.690001</td>\n",
       "      <td>29.690001</td>\n",
       "      <td>29.690001</td>\n",
       "      <td>29.690001</td>\n",
       "      <td>29.693334</td>\n",
       "      <td>29.693334</td>\n",
       "      <td>29.611009</td>\n",
       "    </tr>\n",
       "    <tr>\n",
       "      <th>2003-12-04</th>\n",
       "      <td>29.680000</td>\n",
       "      <td>29.680000</td>\n",
       "      <td>29.680000</td>\n",
       "      <td>29.680000</td>\n",
       "      <td>29.680000</td>\n",
       "      <td>29.690001</td>\n",
       "      <td>29.690001</td>\n",
       "      <td>29.623553</td>\n",
       "    </tr>\n",
       "    <tr>\n",
       "      <th>2003-12-05</th>\n",
       "      <td>29.629999</td>\n",
       "      <td>29.629999</td>\n",
       "      <td>29.629999</td>\n",
       "      <td>29.620001</td>\n",
       "      <td>29.620001</td>\n",
       "      <td>29.676001</td>\n",
       "      <td>29.676001</td>\n",
       "      <td>29.622907</td>\n",
       "    </tr>\n",
       "  </tbody>\n",
       "</table>\n",
       "</div>"
      ],
      "text/plain": [
       "                     high        low       open      close   adjclose  \\\n",
       "formatted_date                                                          \n",
       "2003-12-01      29.730000  29.690001  29.730000  29.700001  29.700001   \n",
       "2003-12-02      29.700001  29.690001  29.690001  29.690001  29.690001   \n",
       "2003-12-03      29.690001  29.690001  29.690001  29.690001  29.690001   \n",
       "2003-12-04      29.680000  29.680000  29.680000  29.680000  29.680000   \n",
       "2003-12-05      29.629999  29.629999  29.629999  29.620001  29.620001   \n",
       "\n",
       "                    SMA50     SMA250      EMA10  \n",
       "formatted_date                                   \n",
       "2003-12-01      29.700001  29.700001  29.572001  \n",
       "2003-12-02      29.695001  29.695001  29.593455  \n",
       "2003-12-03      29.693334  29.693334  29.611009  \n",
       "2003-12-04      29.690001  29.690001  29.623553  \n",
       "2003-12-05      29.676001  29.676001  29.622907  "
      ]
     },
     "execution_count": 21,
     "metadata": {},
     "output_type": "execute_result"
    }
   ],
   "source": [
    "df.head()"
   ]
  },
  {
   "cell_type": "markdown",
   "id": "692825a2",
   "metadata": {},
   "source": [
    "## Training and Prediction\n",
    "\n",
    "\n",
    "---------------------\n"
   ]
  },
  {
   "cell_type": "code",
   "execution_count": 22,
   "id": "2396884d",
   "metadata": {},
   "outputs": [],
   "source": [
    "import time, math\n",
    "import numpy as np\n",
    "from sklearn.model_selection import train_test_split\n",
    "from sklearn.preprocessing import MinMaxScaler\n",
    "from sklearn.linear_model import LinearRegression\n",
    "from sklearn.metrics import mean_squared_error"
   ]
  },
  {
   "cell_type": "code",
   "execution_count": 23,
   "id": "f03f4f3f",
   "metadata": {},
   "outputs": [
    {
     "name": "stdout",
     "output_type": "stream",
     "text": [
      "<class 'pandas.core.frame.DataFrame'>\n",
      "Index: 4198 entries, 2003-12-01 to 2020-01-01\n",
      "Data columns (total 1 columns):\n",
      " #   Column  Non-Null Count  Dtype  \n",
      "---  ------  --------------  -----  \n",
      " 0   close   4198 non-null   float64\n",
      "dtypes: float64(1)\n",
      "memory usage: 65.6+ KB\n"
     ]
    }
   ],
   "source": [
    "\n",
    "# fill all miss values \n",
    "for col in df.columns:\n",
    "    df[col] = df[col].fillna(method='ffill')\n",
    "   \n",
    "price = df[['close']]\n",
    "price.info()"
   ]
  },
  {
   "cell_type": "code",
   "execution_count": 24,
   "id": "e34d355a",
   "metadata": {},
   "outputs": [
    {
     "name": "stderr",
     "output_type": "stream",
     "text": [
      "<ipython-input-24-35c4ee404647>:2: SettingWithCopyWarning: \n",
      "A value is trying to be set on a copy of a slice from a DataFrame.\n",
      "Try using .loc[row_indexer,col_indexer] = value instead\n",
      "\n",
      "See the caveats in the documentation: https://pandas.pydata.org/pandas-docs/stable/user_guide/indexing.html#returning-a-view-versus-a-copy\n",
      "  price['close'] = scaler.fit_transform(price['close'].values.reshape(-1,1))\n"
     ]
    }
   ],
   "source": [
    "scaler = MinMaxScaler(feature_range=(0,1))\n",
    "price['close'] = scaler.fit_transform(price['close'].values.reshape(-1,1))"
   ]
  },
  {
   "cell_type": "code",
   "execution_count": 25,
   "id": "341b6f31",
   "metadata": {},
   "outputs": [
    {
     "data": {
      "text/html": [
       "<div>\n",
       "<style scoped>\n",
       "    .dataframe tbody tr th:only-of-type {\n",
       "        vertical-align: middle;\n",
       "    }\n",
       "\n",
       "    .dataframe tbody tr th {\n",
       "        vertical-align: top;\n",
       "    }\n",
       "\n",
       "    .dataframe thead th {\n",
       "        text-align: right;\n",
       "    }\n",
       "</style>\n",
       "<table border=\"1\" class=\"dataframe\">\n",
       "  <thead>\n",
       "    <tr style=\"text-align: right;\">\n",
       "      <th></th>\n",
       "      <th>close</th>\n",
       "    </tr>\n",
       "    <tr>\n",
       "      <th>formatted_date</th>\n",
       "      <th></th>\n",
       "    </tr>\n",
       "  </thead>\n",
       "  <tbody>\n",
       "    <tr>\n",
       "      <th>2003-12-01</th>\n",
       "      <td>0.352670</td>\n",
       "    </tr>\n",
       "    <tr>\n",
       "      <th>2003-12-02</th>\n",
       "      <td>0.352549</td>\n",
       "    </tr>\n",
       "    <tr>\n",
       "      <th>2003-12-03</th>\n",
       "      <td>0.352549</td>\n",
       "    </tr>\n",
       "    <tr>\n",
       "      <th>2003-12-04</th>\n",
       "      <td>0.352427</td>\n",
       "    </tr>\n",
       "    <tr>\n",
       "      <th>2003-12-05</th>\n",
       "      <td>0.351697</td>\n",
       "    </tr>\n",
       "  </tbody>\n",
       "</table>\n",
       "</div>"
      ],
      "text/plain": [
       "                   close\n",
       "formatted_date          \n",
       "2003-12-01      0.352670\n",
       "2003-12-02      0.352549\n",
       "2003-12-03      0.352549\n",
       "2003-12-04      0.352427\n",
       "2003-12-05      0.351697"
      ]
     },
     "execution_count": 25,
     "metadata": {},
     "output_type": "execute_result"
    }
   ],
   "source": [
    "price.head()"
   ]
  },
  {
   "cell_type": "code",
   "execution_count": 26,
   "id": "387e8c2b",
   "metadata": {},
   "outputs": [],
   "source": [
    "def split_data(stock, lookback, test_size=0.2):\n",
    "    \"\"\"\n",
    "    Split data\n",
    "    :param stock: Our srock price\n",
    "    :type stock : Pandas DataFrame\n",
    "    :param lookback: sequence length (or window)\n",
    "    :type lookback: int\n",
    "    :param test_size: Size of test data\n",
    "    :type test_size: Float\n",
    "    \n",
    "    Return list with splitting data\n",
    "    \"\"\"\n",
    "    data_raw = stock.to_numpy() # convert to np.array\n",
    "    data = []\n",
    "    \n",
    "    # create all possible sequences of length seq_len\n",
    "    for ind in range(len(data_raw) - lookback):\n",
    "        data.append(data_raw[ind: ind+lookback])\n",
    "    \n",
    "    data = np.array(data)\n",
    "    test_set_size = int(np.round(test_size * data.shape[0])) # 20% to test data\n",
    "    train_set_size = data.shape[0] - (test_set_size)\n",
    "    \n",
    "    x_train = data[:train_set_size, :-1, :]\n",
    "    y_train = data[:train_set_size, -1, :]\n",
    "    \n",
    "    x_test = data[train_set_size:, :-1]\n",
    "    y_test = data[train_set_size:, -1, :]\n",
    "    \n",
    "    \n",
    "    return [x_train, y_train, x_test, y_test]"
   ]
  },
  {
   "cell_type": "code",
   "execution_count": 27,
   "id": "5128b6cf",
   "metadata": {},
   "outputs": [
    {
     "name": "stdout",
     "output_type": "stream",
     "text": [
      "x_train_shape =  (3342, 19, 1)\n"
     ]
    }
   ],
   "source": [
    "lookback = 20\n",
    "x_train, y_train, x_test, y_test = split_data(price, lookback)\n",
    "# Check shape for x_train\n",
    "print('x_train_shape = ', x_train.shape)"
   ]
  },
  {
   "cell_type": "code",
   "execution_count": 28,
   "id": "aae6afc8",
   "metadata": {},
   "outputs": [],
   "source": [
    "import torch\n",
    "import torch.nn as nn\n",
    "\n",
    "x_train = torch.from_numpy(x_train).type(torch.Tensor)\n",
    "x_test = torch.from_numpy(x_test).type(torch.Tensor)\n",
    "y_train_lstm = torch.from_numpy(y_train).type(torch.Tensor)\n",
    "y_test_lstm = torch.from_numpy(y_test).type(torch.Tensor)\n",
    "y_train_gru = torch.from_numpy(y_train).type(torch.Tensor)\n",
    "y_test_gru = torch.from_numpy(y_test).type(torch.Tensor)"
   ]
  },
  {
   "cell_type": "code",
   "execution_count": 29,
   "id": "2ddf9f64",
   "metadata": {},
   "outputs": [],
   "source": [
    "input_dim = 1\n",
    "hidden_dim = 32\n",
    "num_layers = 2\n",
    "output_dim = 1\n",
    "num_epochs = 100"
   ]
  },
  {
   "cell_type": "code",
   "execution_count": 30,
   "id": "44b404e4",
   "metadata": {},
   "outputs": [],
   "source": [
    "class LSTM(nn.Module):\n",
    "    def __init__(self, input_dim, hidden_dim, num_layers, output_dim):\n",
    "        super(LSTM, self).__init__()\n",
    "        self.hidden_dim = hidden_dim\n",
    "        self.num_layers = num_layers\n",
    "        self.lstm = nn.LSTM(input_dim, hidden_dim, num_layers, batch_first=True)\n",
    "        self.fc = nn.Linear(hidden_dim, output_dim)\n",
    "        \n",
    "        \n",
    "    def forward(self, x):\n",
    "        h0 = torch.zeros(self.num_layers, x.size(0), self.hidden_dim).requires_grad_()\n",
    "        c0 = torch.zeros(self.num_layers, x.size(0), self.hidden_dim).requires_grad_()\n",
    "        \n",
    "        out, (hn, cn) = self.lstm(x, (h0.detach(), c0.detach()))\n",
    "        out = self.fc(out[:, -1, :])\n",
    "        return out"
   ]
  },
  {
   "cell_type": "code",
   "execution_count": 31,
   "id": "4d507cb5",
   "metadata": {},
   "outputs": [],
   "source": [
    "model = LSTM(input_dim=input_dim, hidden_dim=hidden_dim, output_dim=output_dim, num_layers=num_layers)\n",
    "criterion = torch.nn.MSELoss(reduction='mean')\n",
    "optimiser = torch.optim.Adam(model.parameters(), lr=0.01)"
   ]
  },
  {
   "cell_type": "code",
   "execution_count": 32,
   "id": "03bf135e",
   "metadata": {},
   "outputs": [
    {
     "name": "stdout",
     "output_type": "stream",
     "text": [
      "Epoch  0 MSE:  0.39552661776542664\n",
      "Epoch  1 MSE:  0.23222868144512177\n",
      "Epoch  2 MSE:  0.10752249509096146\n",
      "Epoch  3 MSE:  0.021647868677973747\n",
      "Epoch  4 MSE:  0.13725824654102325\n",
      "Epoch  5 MSE:  0.05797288194298744\n",
      "Epoch  6 MSE:  0.020982492715120316\n",
      "Epoch  7 MSE:  0.027754753828048706\n",
      "Epoch  8 MSE:  0.04122000187635422\n",
      "Epoch  9 MSE:  0.04900376871228218\n",
      "Epoch  10 MSE:  0.04992024600505829\n",
      "Epoch  11 MSE:  0.04569600895047188\n",
      "Epoch  12 MSE:  0.038603946566581726\n",
      "Epoch  13 MSE:  0.03090844675898552\n",
      "Epoch  14 MSE:  0.0246467012912035\n",
      "Epoch  15 MSE:  0.021312130615115166\n",
      "Epoch  16 MSE:  0.021400708705186844\n",
      "Epoch  17 MSE:  0.024072520434856415\n",
      "Epoch  18 MSE:  0.02738461270928383\n",
      "Epoch  19 MSE:  0.029309026896953583\n",
      "Epoch  20 MSE:  0.028906704857945442\n",
      "Epoch  21 MSE:  0.026657292619347572\n",
      "Epoch  22 MSE:  0.023821644484996796\n",
      "Epoch  23 MSE:  0.021566683426499367\n",
      "Epoch  24 MSE:  0.020471911877393723\n",
      "Epoch  25 MSE:  0.020501991733908653\n",
      "Epoch  26 MSE:  0.021233364939689636\n",
      "Epoch  27 MSE:  0.022122930735349655\n",
      "Epoch  28 MSE:  0.022717926651239395\n",
      "Epoch  29 MSE:  0.022771595045924187\n",
      "Epoch  30 MSE:  0.022260867059230804\n",
      "Epoch  31 MSE:  0.02134065143764019\n",
      "Epoch  32 MSE:  0.02026893012225628\n",
      "Epoch  33 MSE:  0.019320370629429817\n",
      "Epoch  34 MSE:  0.018700312823057175\n",
      "Epoch  35 MSE:  0.018475284799933434\n",
      "Epoch  36 MSE:  0.01854334957897663\n",
      "Epoch  37 MSE:  0.018667379394173622\n",
      "Epoch  38 MSE:  0.018574578687548637\n",
      "Epoch  39 MSE:  0.018084833398461342\n",
      "Epoch  40 MSE:  0.01719515211880207\n",
      "Epoch  41 MSE:  0.016059935092926025\n",
      "Epoch  42 MSE:  0.0148721132427454\n",
      "Epoch  43 MSE:  0.013713308610022068\n",
      "Epoch  44 MSE:  0.012440795078873634\n",
      "Epoch  45 MSE:  0.01063158456236124\n",
      "Epoch  46 MSE:  0.0076253414154052734\n",
      "Epoch  47 MSE:  0.0035089231096208096\n",
      "Epoch  48 MSE:  0.0037496185395866632\n",
      "Epoch  49 MSE:  0.0021343014668673277\n",
      "Epoch  50 MSE:  0.00209600618109107\n",
      "Epoch  51 MSE:  0.00507455924525857\n",
      "Epoch  52 MSE:  0.0036391804460436106\n",
      "Epoch  53 MSE:  0.001826169085688889\n",
      "Epoch  54 MSE:  0.002150936983525753\n",
      "Epoch  55 MSE:  0.0015880900900810957\n",
      "Epoch  56 MSE:  0.0006307289586402476\n",
      "Epoch  57 MSE:  0.0013277301331982017\n",
      "Epoch  58 MSE:  0.002018245868384838\n",
      "Epoch  59 MSE:  0.0017558844992890954\n",
      "Epoch  60 MSE:  0.0013586933491751552\n",
      "Epoch  61 MSE:  0.0015680930810049176\n",
      "Epoch  62 MSE:  0.0016092777950689197\n",
      "Epoch  63 MSE:  0.0009811935015022755\n",
      "Epoch  64 MSE:  0.0006743739359080791\n",
      "Epoch  65 MSE:  0.0008569324272684753\n",
      "Epoch  66 MSE:  0.0008564267191104591\n",
      "Epoch  67 MSE:  0.0006545129581354558\n",
      "Epoch  68 MSE:  0.0007619322277605534\n",
      "Epoch  69 MSE:  0.001038429676555097\n",
      "Epoch  70 MSE:  0.0009493411052972078\n",
      "Epoch  71 MSE:  0.0007403275230899453\n",
      "Epoch  72 MSE:  0.0007461296045221388\n",
      "Epoch  73 MSE:  0.0007402863120660186\n",
      "Epoch  74 MSE:  0.0005856637726537883\n",
      "Epoch  75 MSE:  0.0005239197053015232\n",
      "Epoch  76 MSE:  0.0006421848083846271\n",
      "Epoch  77 MSE:  0.0006801567506045103\n",
      "Epoch  78 MSE:  0.0006192795117385685\n",
      "Epoch  79 MSE:  0.0006465553306043148\n",
      "Epoch  80 MSE:  0.0006912526441738009\n",
      "Epoch  81 MSE:  0.0006291468744166195\n",
      "Epoch  82 MSE:  0.0005518696270883083\n",
      "Epoch  83 MSE:  0.0005601549055427313\n",
      "Epoch  84 MSE:  0.0005623001488856971\n",
      "Epoch  85 MSE:  0.0005168866482563317\n",
      "Epoch  86 MSE:  0.0005224514752626419\n",
      "Epoch  87 MSE:  0.0005658340523950756\n",
      "Epoch  88 MSE:  0.0005620160372927785\n",
      "Epoch  89 MSE:  0.0005366344703361392\n",
      "Epoch  90 MSE:  0.0005431718309409916\n",
      "Epoch  91 MSE:  0.0005393452593125403\n",
      "Epoch  92 MSE:  0.0005049928440712392\n",
      "Epoch  93 MSE:  0.0004950320580974221\n",
      "Epoch  94 MSE:  0.0005082524730823934\n",
      "Epoch  95 MSE:  0.000503579038195312\n",
      "Epoch  96 MSE:  0.0004961812519468367\n",
      "Epoch  97 MSE:  0.0005081588169559836\n",
      "Epoch  98 MSE:  0.0005110790953040123\n",
      "Epoch  99 MSE:  0.0004963098326697946\n",
      "Training time: 34.438133239746094\n"
     ]
    }
   ],
   "source": [
    "hist = np.zeros(num_epochs)\n",
    "start_time = time.time()\n",
    "lstm = []\n",
    "\n",
    "for t in range(num_epochs):\n",
    "    y_train_pred = model(x_train)\n",
    "    \n",
    "    loss = criterion(y_train_pred, y_train_lstm)\n",
    "    print('Epoch ', t, 'MSE: ', loss.item())\n",
    "    hist[t] = loss.item()\n",
    "    \n",
    "    \n",
    "    optimiser.zero_grad()\n",
    "    loss.backward()\n",
    "    optimiser.step()\n",
    "    \n",
    "training_time = time.time()-start_time\n",
    "print(\"Training time: {}\".format(training_time))    "
   ]
  },
  {
   "cell_type": "code",
   "execution_count": 33,
   "id": "17b4dc3c",
   "metadata": {},
   "outputs": [],
   "source": [
    "predict = pd.DataFrame(scaler.inverse_transform(y_train_pred.detach().numpy()))\n",
    "original = pd.DataFrame(scaler.inverse_transform(y_train_lstm.detach().numpy()))"
   ]
  },
  {
   "cell_type": "code",
   "execution_count": 34,
   "id": "a3b802f9",
   "metadata": {},
   "outputs": [
    {
     "data": {
      "image/png": "[encoded data removed]",
      "text/plain": [
       "<Figure size 1152x432 with 2 Axes>"
      ]
     },
     "metadata": {},
     "output_type": "display_data"
    }
   ],
   "source": [
    "import seaborn as sns\n",
    "sns.set_style(\"darkgrid\")    \n",
    "\n",
    "fig = plt.figure()\n",
    "fig.subplots_adjust(hspace=0.2, wspace=0.2)\n",
    "\n",
    "plt.subplot(1, 2, 1)\n",
    "ax = sns.lineplot(x = original.index, y = original[0], label=\"Data\", color='royalblue')\n",
    "ax = sns.lineplot(x = predict.index, y = predict[0], label=\"Training Prediction (LSTM)\", color='tomato')\n",
    "ax.set_title('Stock price', size = 14, fontweight='bold')\n",
    "ax.set_xlabel(\"Days\", size = 14)\n",
    "ax.set_ylabel(\"Cost (USD)\", size = 14)\n",
    "ax.set_xticklabels('', size=10)\n",
    "\n",
    "\n",
    "plt.subplot(1, 2, 2)\n",
    "ax = sns.lineplot(data=hist, color='royalblue')\n",
    "ax.set_xlabel(\"Epoch\", size = 14)\n",
    "ax.set_ylabel(\"Loss\", size = 14)\n",
    "ax.set_title(\"Training Loss\", size = 14, fontweight='bold')\n",
    "fig.set_figheight(6)\n",
    "fig.set_figwidth(16)"
   ]
  },
  {
   "cell_type": "code",
   "execution_count": 35,
   "id": "165ace94",
   "metadata": {},
   "outputs": [
    {
     "name": "stdout",
     "output_type": "stream",
     "text": [
      "Train Score: 1.83 RMSE\n",
      "Test Score: 1.26 RMSE\n"
     ]
    }
   ],
   "source": [
    "import math\n",
    "from sklearn.metrics import mean_squared_error\n",
    "\n",
    "# make predictions\n",
    "y_test_pred = model(x_test)\n",
    "\n",
    "# invert predictions\n",
    "y_train_pred = scaler.inverse_transform(y_train_pred.detach().numpy())\n",
    "y_train = scaler.inverse_transform(y_train_lstm.detach().numpy())\n",
    "y_test_pred = scaler.inverse_transform(y_test_pred.detach().numpy())\n",
    "y_test = scaler.inverse_transform(y_test_lstm.detach().numpy())\n",
    "\n",
    "# calculate root mean squared error\n",
    "trainScore = math.sqrt(mean_squared_error(y_train[:,0], y_train_pred[:,0]))\n",
    "print('Train Score: %.2f RMSE' % (trainScore))\n",
    "testScore = math.sqrt(mean_squared_error(y_test[:,0], y_test_pred[:,0]))\n",
    "print('Test Score: %.2f RMSE' % (testScore))\n",
    "lstm.append(trainScore)\n",
    "lstm.append(testScore)\n",
    "lstm.append(training_time)"
   ]
  }
 ],
 "metadata": {
  "kernelspec": {
   "display_name": "Python 3",
   "language": "python",
   "name": "python3"
  },
  "language_info": {
   "codemirror_mode": {
    "name": "ipython",
    "version": 3
   },
   "file_extension": ".py",
   "mimetype": "text/x-python",
   "name": "python",
   "nbconvert_exporter": "python",
   "pygments_lexer": "ipython3",
   "version": "3.8.8"
  }
 },
 "nbformat": 4,
 "nbformat_minor": 5
}
