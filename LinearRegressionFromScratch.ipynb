{
 "cells": [
  {
   "cell_type": "markdown",
   "metadata": {},
   "source": [
    "# What it is Linear Regression ?"
   ]
  },
  {
   "cell_type": "markdown",
   "metadata": {},
   "source": [
    "If we write this question down in Google, we'll get simple answer. Like this:\" Assume that we have data about price the house in New-York and amount of rooms in this houses. If we plot this data then we see that, than more rooms in house than price higher. \n",
    "\n",
    "Then we can say that relationship between price of a __house__ and __amount__ of rooms linear. In this case amount of rooms call *features* or *parameters*\"\n",
    "\n",
    "Linear regression models are known to be simple and easy to implement because there is no advanced mathematical knowledge that is needed, except for a bit of linear Algebra.\n"
   ]
  },
  {
   "cell_type": "markdown",
   "metadata": {},
   "source": [
    "# Formula\n",
    "\n",
    "\n",
    "Simple linear regressiong can be expressed by formula like:\n",
    "\n",
    "## y = intercept + coefficent * x_value\n",
    "\n",
    "The intercept is often known as beta zero (β0) and the coefficient as beta 1 (β1). The equation is equal to the equation for a straight line:\n",
    "\n",
    "## y = B_0 + B_1*x = mx + b\n",
    "\n",
    "\n",
    "That is all there is to a simple linear regression equation. "
   ]
  },
  {
   "cell_type": "markdown",
   "metadata": {},
   "source": [
    "Let's explain what is mean:\n",
    "\n",
    "__y__ is a vector of observed values, the variable called the dependent value. In this case it is price of a house.\n",
    "\n",
    "Now migth be little hard, but I hope you can take this\n",
    "\n",
    "__B_0__ it is intercept. What it is mean,so it is point where the graph function intersects with y-axis. For more information, you can check [Wikipedia](https://en.wikipedia.org/wiki/Y-intercept).\n",
    "\n",
    "__B_1__ it is coefficent. And we can find it as follows:\n",
    "\n",
    "                   \n",
    "## coefficent = B_1 = cov(x,y) / var(x)\n",
    "\n",
    "This turns into something slightly more complex. \n",
    "\n",
    "### cov(x,y) - it is sum of all (x - x') * (y - y')\n",
    "### var (x) - it is sum of all (x - x')\n",
    "\n",
    "- x - is one value of x at index i.\n",
    "- y - is one value of y at index i.\n",
    "- x' - is the average of x.\n",
    "- y' - is the average of y\n",
    "\n",
    "# Estimating the intercept\n",
    "\n",
    "## B_0 = y' - B_1 * x'\n",
    "\n",
    "- x' - it is average of x\n",
    "- y' - it its average of y\n",
    "- B_1 - it is coefficent that we estimated from earlier\n",
    "\n",
    "\n",
    "\n",
    "#### Now, let's coding it !"
   ]
  },
  {
   "cell_type": "code",
   "execution_count": 104,
   "metadata": {},
   "outputs": [],
   "source": [
    "import numpy as np\n",
    "\n",
    "\n",
    "class LinearRegression():\n",
    "    \n",
    "    def __init__(self):\n",
    "        self.coef = None\n",
    "        self.intercept = None\n",
    "    \n",
    "    \n",
    "    def fit(self,x,y):\n",
    "        '''\n",
    "            Given a dataset with 1 input feature x and output feature y,\n",
    "            estimates the coefficient and compute the intercept.\n",
    "        '''\n",
    "        self.coef = self._compute_coefficent(x,y)\n",
    "        self.intercept = self._compute_intercept(x,y)\n",
    "        \n",
    "        \n",
    "    def predict(self,x):\n",
    "        \"\"\"\n",
    "            y = b_0 + b_1*x    \n",
    "        \"\"\"\n",
    "        x_times_coef = np.multiply(x, self.coef)\n",
    "        return np.add(x_times_coef, self.intercept)\n",
    "    \n",
    "    \n",
    "    def _compute_intercept(self,x,y):\n",
    "        '''\n",
    "            intercept = y_bar - coefficient*x_bar\n",
    "\n",
    "            WHERE:  y_bar = average(y),\n",
    "                    x_bar = average(x),\n",
    "                    coefficient = coefficient already estimated\n",
    "        '''\n",
    "        # Find x average values\n",
    "        x_average = np.average(x)\n",
    "        \n",
    "        #Multiply coefficent and our x_average\n",
    "        mul = np.multiply(self.coef, x_average)\n",
    "        \n",
    "        return np.average(y) - mul\n",
    "    \n",
    "    \n",
    "    def r2_score(self, y_true, y_pred):\n",
    "        '''\n",
    "            r2 = 1 - (rss/tss)\n",
    "            rss = sum_{i=0}^{n} (y_i - y_hat)^2\n",
    "            tss = sum_{i=0}^{n} (y_i - y_bar)^2\n",
    "        '''\n",
    "        y_average = np.average(y_true)\n",
    "\n",
    "        residual_sum_of_squares = 0\n",
    "        total_sum_of_squares = 0\n",
    "\n",
    "        for i in range(len(y_true)):\n",
    "            residual_sum_of_squares += (y_true[i] - y_pred[i])**2\n",
    "            total_sum_of_squares += (y_true[i] - y_average)**2\n",
    "\n",
    "        return 1 - (residual_sum_of_squares/total_sum_of_squares)\n",
    "    \n",
    "    \n",
    "    \n",
    "    def _compute_coefficent(self,x,y):\n",
    "        \"\"\"\n",
    "                                    ∑_{i=0}^{n} (x_i - x_bar) * (y_i - y_bar)\n",
    "            coefficient_{x,y} = _________________________________________\n",
    "                                     ∑_{i=0}^{n} (x_i - x_bar)^2\n",
    "        \"\"\"\n",
    "        \n",
    "        numerator = 0\n",
    "        denominator = 0\n",
    "        \n",
    "        for i in range(len(x)):\n",
    "            \n",
    "            x_value = x[i]\n",
    "            y_value = y[i]\n",
    "            x_average = np.average(x)\n",
    "            y_average = np.average(y)\n",
    "            \n",
    "            numerator += (x_value - x_average) * (y_value-y_average)\n",
    "            denominator += (x_value - x_average)**2\n",
    "            \n",
    "        return numerator / denominator\n"
   ]
  },
  {
   "cell_type": "code",
   "execution_count": 105,
   "metadata": {},
   "outputs": [],
   "source": [
    "# Let's check our model\n",
    "\n",
    "\n",
    "from sklearn.datasets import load_boston\n",
    "import pandas as pd\n",
    "from sklearn.model_selection import train_test_split\n",
    "\n",
    "def sklearn_to_df(data_loader):\n",
    "    X_data = data_loader.data\n",
    "    X_columns = data_loader.feature_names\n",
    "    x = pd.DataFrame(X_data, columns=X_columns)\n",
    "\n",
    "    y_data = data_loader.target\n",
    "    y = pd.Series(y_data, name='target')\n",
    "\n",
    "    return x, y\n",
    "\n",
    "x, y = sklearn_to_df(load_boston())\n",
    "\n",
    "x_train, x_test, y_train, y_test = train_test_split(x,y,test_size = .25, shuffle = True)\n",
    "\n",
    "# Pick one feature\n",
    "x_train = x_train['LSTAT'].values\n",
    "x_test = x_test['LSTAT'].values\n",
    "y_train = y_train.values\n",
    "y_test = y_test.values\n",
    "\n",
    "simpleLinearModel = LinearRegression()\n",
    "\n",
    "simpleLinearModel.fit(x_train,y_train)"
   ]
  },
  {
   "cell_type": "code",
   "execution_count": 106,
   "metadata": {},
   "outputs": [
    {
     "name": "stdout",
     "output_type": "stream",
     "text": [
      "Our R2 score - 0.5367636485600422\n"
     ]
    }
   ],
   "source": [
    "pred = simpleLinearModel.predict(x_test)\n",
    "print(f'Our R2 score - {simpleLinearModel.r2_score(y_test,pred)}')"
   ]
  },
  {
   "cell_type": "code",
   "execution_count": 107,
   "metadata": {},
   "outputs": [],
   "source": [
    "# Let complain our model with defualt sklearn.model"
   ]
  },
  {
   "cell_type": "code",
   "execution_count": 108,
   "metadata": {},
   "outputs": [],
   "source": [
    "x_train, x_test, y_train, y_test = train_test_split(x,y,test_size = .25, shuffle = True)"
   ]
  },
  {
   "cell_type": "code",
   "execution_count": 109,
   "metadata": {},
   "outputs": [
    {
     "name": "stdout",
     "output_type": "stream",
     "text": [
      "Sklearn R2 score - 0.7572047649520597\n"
     ]
    }
   ],
   "source": [
    "from sklearn.linear_model import LinearRegression\n",
    "from sklearn.metrics import r2_score\n",
    "skl_model = LinearRegression()\n",
    "skl_model.fit(x_train,y_train)\n",
    "skl_pred = skl_model.predict(x_test)\n",
    "skl_r2_score = r2_score(y_test, skl_pred)\n",
    "print(f'Sklearn R2 score - {skl_r2_score}')"
   ]
  },
  {
   "cell_type": "markdown",
   "metadata": {},
   "source": [
    "Yeah, little worse than sklearn model, but for the \"scratch\" version it's good result. What you think ?"
   ]
  },
 
 ],
 "metadata": {
  "kernelspec": {
   "display_name": "Python 3",
   "language": "python",
   "name": "python3"
  },
  "language_info": {
   "codemirror_mode": {
    "name": "ipython",
    "version": 3
   },
   "file_extension": ".py",
   "mimetype": "text/x-python",
   "name": "python",
   "nbconvert_exporter": "python",
   "pygments_lexer": "ipython3",
   "version": "3.8.5"
  }
 },
 "nbformat": 4,
 "nbformat_minor": 4
}
